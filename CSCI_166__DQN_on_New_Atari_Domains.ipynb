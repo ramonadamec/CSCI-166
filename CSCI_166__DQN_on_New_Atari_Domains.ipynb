{
  "nbformat": 4,
  "nbformat_minor": 0,
  "metadata": {
    "colab": {
      "provenance": [],
      "gpuType": "T4",
      "include_colab_link": true
    },
    "kernelspec": {
      "name": "python3",
      "display_name": "Python 3"
    },
    "language_info": {
      "name": "python"
    },
    "accelerator": "GPU"
  },
  "cells": [
    {
      "cell_type": "markdown",
      "metadata": {
        "id": "view-in-github",
        "colab_type": "text"
      },
      "source": [
        "<a href=\"https://colab.research.google.com/github/ramonadamec/CSCI-166/blob/main/CSCI_166__DQN_on_New_Atari_Domains.ipynb\" target=\"_parent\"><img src=\"https://colab.research.google.com/assets/colab-badge.svg\" alt=\"Open In Colab\"/></a>"
      ]
    },
    {
      "cell_type": "markdown",
      "source": [
        "# DQN on Breakout --- Adapted from Pong Starter (09.21.2025)"
      ],
      "metadata": {
        "id": "XtOuIKifmmyk"
      }
    },
    {
      "cell_type": "code",
      "source": [
        "# Clean any prior AutoROM flavors\n",
        "!pip uninstall -y AutoROM AutoROM.accept-rom-license autorom >/dev/null 2>&1\n",
        "\n",
        "# Install the release that exposes a stable CLI\n",
        "!pip install -q \"AutoROM.accept-rom-license==0.6.1\"\n",
        "\n",
        "# Run the CLI (this variant supports these flags)\n",
        "import os, sys, subprocess, pathlib\n",
        "os.environ[\"ALE_ACCEPT_LICENSE\"] = \"YES\"\n",
        "rom_dir = pathlib.Path.home()/\".atari_roms\"\n",
        "rom_dir.mkdir(parents=True, exist_ok=True)\n",
        "\n",
        "cmd = [sys.executable, \"-m\", \"AutoROM\", \"--accept-license\", \"--install-dir\", str(rom_dir)]\n",
        "print(\"Running:\", \" \".join(cmd))\n",
        "subprocess.run(cmd, check=True)\n",
        "\n",
        "# Point ALE to the ROM directory\n",
        "os.environ[\"ALE_PY_ROM_DIR\"] = str(rom_dir)\n",
        "print(\"✅ ROMs installed to:\", rom_dir)"
      ],
      "metadata": {
        "colab": {
          "base_uri": "https://localhost:8080/"
        },
        "id": "aqL9333gml9l",
        "outputId": "b529a421-92d7-4e9f-80d6-4c907830ffb1"
      },
      "execution_count": 3,
      "outputs": [
        {
          "output_type": "stream",
          "name": "stdout",
          "text": [
            "\u001b[?25l     \u001b[90m━━━━━━━━━━━━━━━━━━━━━━━━━━━━━━━━━━━━━━━━\u001b[0m \u001b[32m0.0/434.7 kB\u001b[0m \u001b[31m?\u001b[0m eta \u001b[36m-:--:--\u001b[0m\r\u001b[2K     \u001b[90m━━━━━━━━━━━━━━━━━━━━━━━━━━━━━━━━━━━━━━\u001b[0m \u001b[32m434.7/434.7 kB\u001b[0m \u001b[31m29.1 MB/s\u001b[0m eta \u001b[36m0:00:00\u001b[0m\n",
            "\u001b[?25h  Installing build dependencies ... \u001b[?25l\u001b[?25hdone\n",
            "  Getting requirements to build wheel ... \u001b[?25l\u001b[?25hdone\n",
            "  Preparing metadata (pyproject.toml) ... \u001b[?25l\u001b[?25hdone\n",
            "  Building wheel for AutoROM.accept-rom-license (pyproject.toml) ... \u001b[?25l\u001b[?25hdone\n",
            "Running: /usr/bin/python3 -m AutoROM --accept-license --install-dir /root/.atari_roms\n",
            "✅ ROMs installed to: /root/.atari_roms\n"
          ]
        }
      ]
    },
    {
      "cell_type": "markdown",
      "source": [
        "# Install the Gym"
      ],
      "metadata": {
        "id": "RQyqgMFzT-qi"
      }
    },
    {
      "cell_type": "code",
      "source": [
        "import ale_py\n",
        "import gymnasium as gym"
      ],
      "metadata": {
        "id": "_W_afhrzUAnp"
      },
      "execution_count": 4,
      "outputs": []
    },
    {
      "cell_type": "markdown",
      "source": [
        "# Configure the model save drive"
      ],
      "metadata": {
        "id": "E0n7zQrALq7M"
      }
    },
    {
      "cell_type": "code",
      "source": [
        "from google.colab import drive\n",
        "drive.mount('/content/drive')"
      ],
      "metadata": {
        "id": "v8hSrWrrLibc",
        "colab": {
          "base_uri": "https://localhost:8080/"
        },
        "outputId": "948bc8a8-224a-4690-d74b-5381868d4efb"
      },
      "execution_count": 5,
      "outputs": [
        {
          "output_type": "stream",
          "name": "stdout",
          "text": [
            "Mounted at /content/drive\n"
          ]
        }
      ]
    },
    {
      "cell_type": "code",
      "source": [
        "import os\n",
        "save_dir = \"/content/drive/MyDrive/PUBLIC/Models\"\n",
        "os.makedirs(save_dir, exist_ok=True)"
      ],
      "metadata": {
        "id": "vlWPUjKfLv9y"
      },
      "execution_count": 6,
      "outputs": []
    },
    {
      "cell_type": "markdown",
      "source": [
        "# Now Model"
      ],
      "metadata": {
        "id": "SAEvyoukL1T3"
      }
    },
    {
      "cell_type": "code",
      "source": [
        "from dataclasses import dataclass\n",
        "import argparse\n",
        "import time\n",
        "from datetime import datetime\n",
        "import numpy as np\n",
        "import collections\n",
        "import typing as tt\n",
        "\n",
        "import torch\n",
        "import torch.nn as nn\n",
        "import torch.optim as optim\n",
        "\n",
        "from torch.utils.tensorboard.writer import SummaryWriter"
      ],
      "metadata": {
        "id": "VCbjkLLSxCUN"
      },
      "execution_count": 7,
      "outputs": []
    },
    {
      "cell_type": "code",
      "source": [
        "#dqn_model\n",
        "class DQN(nn.Module):\n",
        "    def __init__(self, input_shape, n_actions):\n",
        "        super(DQN, self).__init__()\n",
        "\n",
        "        self.conv = nn.Sequential(\n",
        "            nn.Conv2d(input_shape[0], 32, kernel_size=8, stride=4),\n",
        "            nn.ReLU(),\n",
        "            nn.Conv2d(32, 64, kernel_size=4, stride=2),\n",
        "            nn.ReLU(),\n",
        "            nn.Conv2d(64, 64, kernel_size=3, stride=1),\n",
        "            nn.ReLU(),\n",
        "            nn.Flatten(),\n",
        "        )\n",
        "        size = self.conv(torch.zeros(1, *input_shape)).size()[-1]\n",
        "        self.fc = nn.Sequential(\n",
        "            nn.Linear(size, 512),\n",
        "            nn.ReLU(),\n",
        "            nn.Linear(512, n_actions)\n",
        "        )\n",
        "    def forward(self, x: torch.ByteTensor):\n",
        "        x = x.float() / 255.0\n",
        "        return self.fc(self.conv(x))"
      ],
      "metadata": {
        "id": "dIJ32Rs6xJsV"
      },
      "execution_count": 8,
      "outputs": []
    },
    {
      "cell_type": "code",
      "source": [
        "# Install Stable Baselines3 for Atari wrappers\n",
        "!pip install -q stable-baselines3"
      ],
      "metadata": {
        "colab": {
          "base_uri": "https://localhost:8080/"
        },
        "id": "Uqig8gidCG8c",
        "outputId": "fffe7634-9f66-41e4-e849-d72479ba0a78"
      },
      "execution_count": 9,
      "outputs": [
        {
          "output_type": "stream",
          "name": "stdout",
          "text": [
            "\u001b[?25l   \u001b[90m━━━━━━━━━━━━━━━━━━━━━━━━━━━━━━━━━━━━━━━━\u001b[0m \u001b[32m0.0/187.2 kB\u001b[0m \u001b[31m?\u001b[0m eta \u001b[36m-:--:--\u001b[0m\r\u001b[2K   \u001b[90m━━━━━━━━━━━━━━━━━━━━━━━━━━━━━━━━━━━━━━━━\u001b[0m \u001b[32m187.2/187.2 kB\u001b[0m \u001b[31m15.4 MB/s\u001b[0m eta \u001b[36m0:00:00\u001b[0m\n",
            "\u001b[?25h"
          ]
        }
      ]
    },
    {
      "cell_type": "code",
      "source": [
        "from gymnasium import spaces\n",
        "from stable_baselines3.common import atari_wrappers\n",
        "import numpy as np\n",
        "import collections\n",
        "import typing as tt\n",
        "\n",
        "class ImageToPyTorch(gym.ObservationWrapper):\n",
        "    def __init__(self, env):\n",
        "        super(ImageToPyTorch, self).__init__(env)\n",
        "        obs = self.observation_space\n",
        "        assert isinstance(obs, gym.spaces.Box)\n",
        "        assert len(obs.shape) == 3\n",
        "        new_shape = (obs.shape[-1], obs.shape[0], obs.shape[1])\n",
        "        self.observation_space = gym.spaces.Box(\n",
        "            low=obs.low.min(), high=obs.high.max(),\n",
        "            shape=new_shape, dtype=obs.dtype)\n",
        "\n",
        "    def observation(self, observation):\n",
        "        return np.moveaxis(observation, 2, 0)\n",
        "\n",
        "\n",
        "class BufferWrapper(gym.ObservationWrapper):\n",
        "    def __init__(self, env, n_steps):\n",
        "        super(BufferWrapper, self).__init__(env)\n",
        "        obs = env.observation_space\n",
        "        assert isinstance(obs, spaces.Box)\n",
        "        new_obs = gym.spaces.Box(\n",
        "            obs.low.repeat(n_steps, axis=0), obs.high.repeat(n_steps, axis=0),\n",
        "            dtype=obs.dtype)\n",
        "        self.observation_space = new_obs\n",
        "        self.buffer = collections.deque(maxlen=n_steps)\n",
        "\n",
        "    def reset(self, *, seed: tt.Optional[int] = None, options: tt.Optional[dict[str, tt.Any]] = None):\n",
        "        for _ in range(self.buffer.maxlen):\n",
        "            self.buffer.append(np.zeros_like(self.env.observation_space.low))\n",
        "        obs, extra = self.env.reset(seed=seed, options=options)\n",
        "        return self.observation(obs), extra\n",
        "\n",
        "    def observation(self, observation: np.ndarray) -> np.ndarray:\n",
        "        self.buffer.append(observation)\n",
        "        return np.concatenate(self.buffer)\n",
        "\n",
        "\n",
        "class FireResetEnv:\n",
        "    def __init__(self, env):\n",
        "        self.env = env\n",
        "        self.action_space = env.action_space\n",
        "        self.observation_space = env.observation_space\n",
        "\n",
        "    def reset(self, **kwargs):\n",
        "        obs, info = self.env.reset(**kwargs)\n",
        "        try:\n",
        "            obs, _, term, trunc, info = self.env.step(1)\n",
        "            if term or trunc:\n",
        "                obs, info = self.env.reset(**kwargs)\n",
        "        except Exception:\n",
        "            pass\n",
        "        return obs, info\n",
        "\n",
        "    def step(self, a):\n",
        "        return self.env.step(a)\n",
        "\n",
        "    def __getattr__(self, name):\n",
        "        return getattr(self.env, name)\n",
        "\n",
        "\n",
        "def make_env(env_name: str, n_steps=4, render_mode=None, **kwargs):\n",
        "    print(f\"Creating environment {env_name}\")\n",
        "    env = gym.make(env_name, render_mode=render_mode, **kwargs)\n",
        "    env = atari_wrappers.AtariWrapper(env, clip_reward=True, noop_max=30)\n",
        "    env = ImageToPyTorch(env)\n",
        "    env = BufferWrapper(env, n_steps=n_steps)\n",
        "    env = FireResetEnv(env)\n",
        "    return env"
      ],
      "metadata": {
        "id": "Vk2CtGcOBcQo",
        "colab": {
          "base_uri": "https://localhost:8080/"
        },
        "outputId": "6a537d38-7ecb-46de-e7a8-e3e824f6a040"
      },
      "execution_count": 10,
      "outputs": [
        {
          "output_type": "stream",
          "name": "stderr",
          "text": [
            "Gym has been unmaintained since 2022 and does not support NumPy 2.0 amongst other critical functionality.\n",
            "Please upgrade to Gymnasium, the maintained drop-in replacement of Gym, or contact the authors of your software and request that they upgrade.\n",
            "See the migration guide at https://gymnasium.farama.org/introduction/migration_guide/ for additional information.\n",
            "/usr/local/lib/python3.12/dist-packages/jupyter_client/session.py:203: DeprecationWarning: datetime.datetime.utcnow() is deprecated and scheduled for removal in a future version. Use timezone-aware objects to represent datetimes in UTC: datetime.datetime.now(datetime.UTC).\n",
            "  return datetime.utcnow().replace(tzinfo=utc)\n"
          ]
        }
      ]
    },
    {
      "cell_type": "code",
      "source": [
        "# Base Configuration\n",
        "DEFAULT_ENV_NAME = \"ALE/Breakout-v5\"\n",
        "MEAN_REWARD_BOUND = 19\n",
        "\n",
        "GAMMA = 0.99\n",
        "BATCH_SIZE = 32\n",
        "REPLAY_SIZE = 10000\n",
        "LEARNING_RATE = 1e-4\n",
        "SYNC_TARGET_FRAMES = 1000\n",
        "REPLAY_START_SIZE = 10000\n",
        "\n",
        "SAVE_EPSILON = 0.5  # Only save if at least this much better\n",
        "EPSILON_DECAY_LAST_FRAME = 150000\n",
        "EPSILON_START = 1.0\n",
        "EPSILON_FINAL = 0.01\n",
        "\n",
        "# Tuple of tensors returned from a sampled minibatch in replay buffer\n",
        "State = np.ndarray\n",
        "Action = int\n",
        "BatchTensors = tt.Tuple[\n",
        "    torch.ByteTensor,           # current state\n",
        "    torch.LongTensor,           # actions\n",
        "    torch.Tensor,               # rewards\n",
        "    torch.BoolTensor,           # done || trunc\n",
        "    torch.ByteTensor            # next state\n",
        "]"
      ],
      "metadata": {
        "id": "GvXPdjPCBxOd"
      },
      "execution_count": 11,
      "outputs": []
    },
    {
      "cell_type": "code",
      "source": [
        "# ⚙️ Fast Training Config for Quick Test Run\n",
        "MEAN_REWARD_BOUND = 5\n",
        "REPLAY_START_SIZE = 1000\n",
        "EPSILON_DECAY_LAST_FRAME = 10_000\n",
        "SYNC_TARGET_FRAMES = 500\n",
        "\n",
        "# REPLAY_SIZE = 5000  # optional\n",
        "# BATCH_SIZE = 16     # optional"
      ],
      "metadata": {
        "id": "3FHvHNMrR9Sk"
      },
      "execution_count": 12,
      "outputs": []
    },
    {
      "cell_type": "code",
      "source": [
        "import os\n",
        "from pathlib import Path\n",
        "\n",
        "# Define directories\n",
        "save_dir_drive = \"/content/drive/MyDrive/PUBLIC/Models\"\n",
        "save_dir_local = \"saved_models\"\n",
        "\n",
        "# Create both directories if they don't exist\n",
        "os.makedirs(save_dir_drive, exist_ok=True)\n",
        "os.makedirs(save_dir_local, exist_ok=True)\n",
        "\n",
        "# Safe model filename\n",
        "env_name = DEFAULT_ENV_NAME\n",
        "safe_env_name = env_name.replace(\"/\", \"_\")"
      ],
      "metadata": {
        "id": "MkILCuT2OhBV"
      },
      "execution_count": 13,
      "outputs": []
    },
    {
      "cell_type": "code",
      "source": [
        "@dataclass\n",
        "class Experience:\n",
        "    state: State\n",
        "    action: Action\n",
        "    reward: float\n",
        "    done_trunc: bool\n",
        "    new_state: State\n",
        "\n",
        "\n",
        "class ExperienceBuffer:\n",
        "    def __init__(self, capacity: int):\n",
        "        self.buffer = collections.deque(maxlen=capacity)\n",
        "\n",
        "    def __len__(self):\n",
        "        return len(self.buffer)\n",
        "\n",
        "    def append(self, experience: Experience):\n",
        "        self.buffer.append(experience)\n",
        "\n",
        "    def sample(self, batch_size: int) -> tt.List[Experience]:\n",
        "        indices = np.random.choice(len(self), batch_size, replace=False)\n",
        "        return [self.buffer[idx] for idx in indices]"
      ],
      "metadata": {
        "id": "uW4Bo-mcB6rc"
      },
      "execution_count": 14,
      "outputs": []
    },
    {
      "cell_type": "code",
      "source": [
        "class Agent:\n",
        "    def __init__(self, env: gym.Env, exp_buffer: ExperienceBuffer):\n",
        "        self.env = env\n",
        "        self.exp_buffer = exp_buffer\n",
        "        self.state: tt.Optional[np.ndarray] = None\n",
        "        self._reset()\n",
        "\n",
        "    def _reset(self):\n",
        "        self.state, _ = self.env.reset()\n",
        "        self.total_reward = 0.0\n",
        "\n",
        "    @torch.no_grad()\n",
        "    def play_step(self, net: DQN, device: torch.device,\n",
        "                  epsilon: float = 0.0) -> tt.Optional[float]:\n",
        "        done_reward = None\n",
        "\n",
        "        if np.random.random() < epsilon:\n",
        "            action = self.env.action_space.sample()  # ← fixed\n",
        "        else:\n",
        "            state_v = torch.as_tensor(self.state, device=device).unsqueeze(0)\n",
        "            q_vals_v = net(state_v)\n",
        "            _, act_v = torch.max(q_vals_v, dim=1)\n",
        "            action = int(act_v.item())\n",
        "\n",
        "        # do step in the environment\n",
        "        new_state, reward, is_done, is_tr, _ = self.env.step(action)\n",
        "        self.total_reward += reward\n",
        "\n",
        "        exp = Experience(\n",
        "            state=self.state, action=action, reward=float(reward),\n",
        "            done_trunc=is_done or is_tr, new_state=new_state\n",
        "        )\n",
        "        self.exp_buffer.append(exp)\n",
        "        self.state = new_state\n",
        "\n",
        "        if is_done or is_tr:\n",
        "            done_reward = self.total_reward\n",
        "            self._reset()\n",
        "\n",
        "        return done_reward"
      ],
      "metadata": {
        "id": "irJb4V32B-R8"
      },
      "execution_count": 15,
      "outputs": []
    },
    {
      "cell_type": "code",
      "source": [
        "def batch_to_tensors(batch: tt.List[Experience], device: torch.device) -> BatchTensors:\n",
        "    states, actions, rewards, dones, new_state = [], [], [], [], []\n",
        "    for e in batch:\n",
        "        states.append(e.state)\n",
        "        actions.append(e.action)\n",
        "        rewards.append(e.reward)\n",
        "        dones.append(e.done_trunc)\n",
        "        new_state.append(e.new_state)\n",
        "    states_t = torch.as_tensor(np.asarray(states))\n",
        "    actions_t = torch.LongTensor(actions)\n",
        "    rewards_t = torch.FloatTensor(rewards)\n",
        "    dones_t = torch.BoolTensor(dones)\n",
        "    new_states_t = torch.as_tensor(np.asarray(new_state))\n",
        "    return states_t.to(device), actions_t.to(device), rewards_t.to(device), \\\n",
        "           dones_t.to(device),  new_states_t.to(device)"
      ],
      "metadata": {
        "id": "vHXmNr_wCBJm"
      },
      "execution_count": 16,
      "outputs": []
    },
    {
      "cell_type": "code",
      "source": [
        "def calc_loss(batch: tt.List[Experience], net: DQN, tgt_net: DQN,\n",
        "              device: torch.device) -> torch.Tensor:\n",
        "    states_t, actions_t, rewards_t, dones_t, new_states_t = batch_to_tensors(batch, device)\n",
        "\n",
        "    state_action_values = net(states_t).gather(\n",
        "        1, actions_t.unsqueeze(-1)\n",
        "    ).squeeze(-1)\n",
        "    with torch.no_grad():\n",
        "        next_state_values = tgt_net(new_states_t).max(1)[0]\n",
        "        next_state_values[dones_t] = 0.0\n",
        "        next_state_values = next_state_values.detach()\n",
        "\n",
        "    expected_state_action_values = next_state_values * GAMMA + rewards_t\n",
        "    return nn.MSELoss()(state_action_values, expected_state_action_values)"
      ],
      "metadata": {
        "id": "-dbh0431CEXO"
      },
      "execution_count": 17,
      "outputs": []
    },
    {
      "cell_type": "code",
      "source": [
        "model_comment = f\"test_epsdec{EPSILON_DECAY_LAST_FRAME}_rs{REPLAY_START_SIZE}_sync{SYNC_TARGET_FRAMES}\"\n",
        "device = torch.device(\"cuda\" if torch.cuda.is_available() else \"cpu\")\n",
        "\n",
        "# keep runs short so you can record “early vs later” clips\n",
        "TRAIN_MAX_FRAMES = 150_000  # adjust 50k–200k depending on time\n",
        "\n",
        "env = make_env(env_name)  # env_name already comes from DEFAULT_ENV_NAME (now Breakout)\n",
        "net = DQN(env.observation_space.shape, env.action_space.n).to(device)\n",
        "tgt_net = DQN(env.observation_space.shape, env.action_space.n).to(device)\n",
        "writer = SummaryWriter(comment=f\"-{safe_env_name}-{model_comment}\")\n",
        "print(net)\n",
        "\n",
        "buffer = ExperienceBuffer(REPLAY_SIZE)\n",
        "agent = Agent(env, buffer)\n",
        "epsilon = EPSILON_START\n",
        "\n",
        "optimizer = optim.Adam(net.parameters(), lr=LEARNING_RATE)\n",
        "total_rewards = []\n",
        "frame_idx = 0\n",
        "ts_frame = 0\n",
        "ts = time.time()\n",
        "best_m_reward = None\n",
        "\n",
        "start_time = time.time()\n",
        "while True:\n",
        "    frame_idx += 1\n",
        "    epsilon = max(EPSILON_FINAL, EPSILON_START - frame_idx / EPSILON_DECAY_LAST_FRAME)\n",
        "\n",
        "    reward = agent.play_step(net, device, epsilon)\n",
        "    if reward is not None:\n",
        "        total_rewards.append(reward)\n",
        "        speed = (frame_idx - ts_frame) / (time.time() - ts)\n",
        "        elapsed = time.time() - start_time  # in seconds\n",
        "        ts_frame = frame_idx\n",
        "        ts = time.time()\n",
        "        m_reward = np.mean(total_rewards[-100:]) if total_rewards else 0.0\n",
        "\n",
        "        writer.add_scalar(\"epsilon\", epsilon, frame_idx)\n",
        "        writer.add_scalar(\"speed\", speed, frame_idx)\n",
        "        writer.add_scalar(\"reward_100\", m_reward, frame_idx)\n",
        "        writer.add_scalar(\"reward\", reward, frame_idx)\n",
        "\n",
        "        if best_m_reward is None or m_reward > best_m_reward + SAVE_EPSILON:\n",
        "            print(f\"{frame_idx}: done {len(total_rewards)} games, reward {m_reward:.3f}, \"\n",
        "                  f\"eps {epsilon:.2f}, speed {speed:.2f} f/s, time {elapsed/60:.1f} min\")\n",
        "            timestamp = datetime.now().strftime(\"%Y%m%d-%H%M\")\n",
        "            model_filename = f\"{safe_env_name}-best_{int(m_reward)}-{timestamp}-{model_comment}.dat\"\n",
        "\n",
        "            # Save to both paths\n",
        "            model_path_drive = os.path.join(save_dir_drive, model_filename)\n",
        "            model_path_local = os.path.join(save_dir_local, model_filename)\n",
        "            torch.save(net.state_dict(), model_path_drive)\n",
        "            torch.save(net.state_dict(), model_path_local)\n",
        "\n",
        "            print(f\"💾 Model saved to:\\n - Google Drive: {model_path_drive}\\n - Local:        {model_path_local}\")\n",
        "            if best_m_reward is not None:\n",
        "                print(f\"Best reward updated {best_m_reward:.3f} -> {m_reward:.3f}\")\n",
        "            best_m_reward = m_reward\n",
        "\n",
        "        if m_reward > MEAN_REWARD_BOUND:\n",
        "            print(\"Solved in %d frames!\" % frame_idx)\n",
        "            break\n",
        "\n",
        "    if len(buffer) < REPLAY_START_SIZE:\n",
        "        if frame_idx >= TRAIN_MAX_FRAMES:\n",
        "            print(f\"Stopping at TRAIN_MAX_FRAMES={TRAIN_MAX_FRAMES} (buffer filling).\")\n",
        "            break\n",
        "        continue\n",
        "\n",
        "    if frame_idx % SYNC_TARGET_FRAMES == 0:\n",
        "        tgt_net.load_state_dict(net.state_dict())\n",
        "\n",
        "    optimizer.zero_grad()\n",
        "    batch = buffer.sample(BATCH_SIZE)\n",
        "    loss_t = calc_loss(batch, net, tgt_net, device)\n",
        "    loss_t.backward()\n",
        "    optimizer.step()\n",
        "\n",
        "    if frame_idx >= TRAIN_MAX_FRAMES:\n",
        "        print(f\"Reached TRAIN_MAX_FRAMES={TRAIN_MAX_FRAMES}.\")\n",
        "        break\n",
        "\n",
        "env.close()\n",
        "writer.close()"
      ],
      "metadata": {
        "colab": {
          "base_uri": "https://localhost:8080/"
        },
        "id": "Q8gj-5woCXEB",
        "outputId": "60a6bb18-075c-4347-8ad3-b7526e1d1bf4"
      },
      "execution_count": 18,
      "outputs": [
        {
          "output_type": "stream",
          "name": "stdout",
          "text": [
            "Creating environment ALE/Breakout-v5\n",
            "DQN(\n",
            "  (conv): Sequential(\n",
            "    (0): Conv2d(4, 32, kernel_size=(8, 8), stride=(4, 4))\n",
            "    (1): ReLU()\n",
            "    (2): Conv2d(32, 64, kernel_size=(4, 4), stride=(2, 2))\n",
            "    (3): ReLU()\n",
            "    (4): Conv2d(64, 64, kernel_size=(3, 3), stride=(1, 1))\n",
            "    (5): ReLU()\n",
            "    (6): Flatten(start_dim=1, end_dim=-1)\n",
            "  )\n",
            "  (fc): Sequential(\n",
            "    (0): Linear(in_features=3136, out_features=512, bias=True)\n",
            "    (1): ReLU()\n",
            "    (2): Linear(in_features=512, out_features=4, bias=True)\n",
            "  )\n",
            ")\n",
            "4: done 1 games, reward 0.000, eps 1.00, speed 62.64 f/s, time 0.0 min\n"
          ]
        },
        {
          "output_type": "stream",
          "name": "stderr",
          "text": [
            "/usr/local/lib/python3.12/dist-packages/jupyter_client/session.py:203: DeprecationWarning: datetime.datetime.utcnow() is deprecated and scheduled for removal in a future version. Use timezone-aware objects to represent datetimes in UTC: datetime.datetime.now(datetime.UTC).\n",
            "  return datetime.utcnow().replace(tzinfo=utc)\n"
          ]
        },
        {
          "output_type": "stream",
          "name": "stdout",
          "text": [
            "💾 Model saved to:\n",
            " - Google Drive: /content/drive/MyDrive/PUBLIC/Models/ALE_Breakout-v5-best_0-20250924-0213-test_epsdec10000_rs1000_sync500.dat\n",
            " - Local:        saved_models/ALE_Breakout-v5-best_0-20250924-0213-test_epsdec10000_rs1000_sync500.dat\n",
            "37: done 2 games, reward 1.500, eps 1.00, speed 40.99 f/s, time 0.0 min\n",
            "💾 Model saved to:\n",
            " - Google Drive: /content/drive/MyDrive/PUBLIC/Models/ALE_Breakout-v5-best_1-20250924-0213-test_epsdec10000_rs1000_sync500.dat\n",
            " - Local:        saved_models/ALE_Breakout-v5-best_1-20250924-0213-test_epsdec10000_rs1000_sync500.dat\n",
            "Best reward updated 0.000 -> 1.500\n",
            "135678: done 9973 games, reward 2.060, eps 0.01, speed 121.81 f/s, time 21.9 min\n",
            "💾 Model saved to:\n",
            " - Google Drive: /content/drive/MyDrive/PUBLIC/Models/ALE_Breakout-v5-best_2-20250924-0235-test_epsdec10000_rs1000_sync500.dat\n",
            " - Local:        saved_models/ALE_Breakout-v5-best_2-20250924-0235-test_epsdec10000_rs1000_sync500.dat\n",
            "Best reward updated 1.500 -> 2.060\n",
            "Reached TRAIN_MAX_FRAMES=150000.\n"
          ]
        }
      ]
    },
    {
      "cell_type": "code",
      "source": [
        "# Recorder Helper\n",
        "\n",
        "import imageio.v2 as imageio\n",
        "import numpy as np, torch\n",
        "\n",
        "def record_clip(env_id, policy_net, eps=1.0, target_seconds=12, save_fps=15,\n",
        "                slow_factor=2, out_path=\"video.mp4\", seed=0, max_episodes=6):\n",
        "    \"\"\"\n",
        "    save_fps: frames per second in the output video (lower = slower playback)\n",
        "    slow_factor: duplicate each rendered frame this many times (bigger = slower)\n",
        "    \"\"\"\n",
        "    target_frames = int(target_seconds * save_fps)\n",
        "    frames = []\n",
        "    env = make_env(env_id, n_steps=4, render_mode=\"rgb_array\")\n",
        "    dev = next(policy_net.parameters()).device\n",
        "    rng = np.random.RandomState(seed)\n",
        "\n",
        "    episodes = 0\n",
        "    while len(frames) < target_frames and episodes < max_episodes:\n",
        "        s, _ = env.reset(seed=int(rng.randint(0, 1_000_000)))\n",
        "        done = trunc = False\n",
        "        while not (done or trunc) and len(frames) < target_frames:\n",
        "            if rng.rand() < eps:\n",
        "                a = env.action_space.sample()\n",
        "            else:\n",
        "                with torch.no_grad():\n",
        "                    sv = torch.as_tensor(s, device=dev).unsqueeze(0)\n",
        "                    q = policy_net(sv)\n",
        "                    a = int(torch.argmax(q, dim=1).item())\n",
        "            ns, r, done, trunc, _ = env.step(a)\n",
        "            frame = env.render()\n",
        "            # duplicate frames to slow apparent motion\n",
        "            frames.extend([frame] * slow_factor)\n",
        "            s = ns\n",
        "        episodes += 1\n",
        "\n",
        "    if not frames:\n",
        "        raise RuntimeError(\"No frames recorded.\")\n",
        "    # trim/pad to exact length\n",
        "    frames = frames[:target_frames] if len(frames) >= target_frames else frames + [frames[-1]]*(target_frames-len(frames))\n",
        "    imageio.mimsave(out_path, frames, fps=save_fps)\n",
        "    env.close()\n",
        "    print(f\"Saved {out_path} — {len(frames)/save_fps:.1f}s at {save_fps} fps (slow_factor={slow_factor})\")"
      ],
      "metadata": {
        "id": "DBi2gjDKkRCM"
      },
      "execution_count": 19,
      "outputs": []
    },
    {
      "cell_type": "code",
      "source": [
        "# Make the videos\n",
        "\n",
        "# Early: fresh net, random-ish, slowed\n",
        "tmp_env = make_env(DEFAULT_ENV_NAME, render_mode=\"rgb_array\")\n",
        "tmp_net = DQN(tmp_env.observation_space.shape, tmp_env.action_space.n).to(next(net.parameters()).device)\n",
        "tmp_env.close()\n",
        "\n",
        "import os\n",
        "os.makedirs(\"videos\", exist_ok=True)\n",
        "\n",
        "record_clip(DEFAULT_ENV_NAME, tmp_net, eps=1.0,  target_seconds=12, save_fps=15, slow_factor=2,\n",
        "            out_path=\"videos/early_breakout.mp4\", seed=0)\n",
        "\n",
        "# Later: your trained net, greedy-ish, slowed\n",
        "record_clip(DEFAULT_ENV_NAME, net,     eps=0.01, target_seconds=12, save_fps=15, slow_factor=2,\n",
        "            out_path=\"videos/later_breakout.mp4\", seed=1)"
      ],
      "metadata": {
        "colab": {
          "base_uri": "https://localhost:8080/"
        },
        "id": "WeE7um46kX1z",
        "outputId": "6b7ded14-e86e-4a16-ff56-88e4c3ed299b"
      },
      "execution_count": 20,
      "outputs": [
        {
          "output_type": "stream",
          "name": "stdout",
          "text": [
            "Creating environment ALE/Breakout-v5\n",
            "Creating environment ALE/Breakout-v5\n"
          ]
        },
        {
          "output_type": "stream",
          "name": "stderr",
          "text": [
            "WARNING:imageio_ffmpeg:IMAGEIO FFMPEG_WRITER WARNING: input image is not divisible by macro_block_size=16, resizing from (160, 210) to (160, 224) to ensure video compatibility with most codecs and players. To prevent resizing, make your input image divisible by the macro_block_size or set the macro_block_size to 1 (risking incompatibility).\n"
          ]
        },
        {
          "output_type": "stream",
          "name": "stdout",
          "text": [
            "Saved videos/early_breakout.mp4 — 12.0s at 15 fps (slow_factor=2)\n",
            "Creating environment ALE/Breakout-v5\n"
          ]
        },
        {
          "output_type": "stream",
          "name": "stderr",
          "text": [
            "WARNING:imageio_ffmpeg:IMAGEIO FFMPEG_WRITER WARNING: input image is not divisible by macro_block_size=16, resizing from (160, 210) to (160, 224) to ensure video compatibility with most codecs and players. To prevent resizing, make your input image divisible by the macro_block_size or set the macro_block_size to 1 (risking incompatibility).\n"
          ]
        },
        {
          "output_type": "stream",
          "name": "stdout",
          "text": [
            "Saved videos/later_breakout.mp4 — 12.0s at 15 fps (slow_factor=2)\n"
          ]
        }
      ]
    },
    {
      "cell_type": "code",
      "source": [
        "# Cell C — Preview videos directly in Colab\n",
        "from IPython.display import Video, display\n",
        "\n",
        "display(Video(\"videos/early_breakout.mp4\", embed=True, width=480))\n",
        "display(Video(\"videos/later_breakout.mp4\", embed=True, width=480))"
      ],
      "metadata": {
        "colab": {
          "base_uri": "https://localhost:8080/",
          "height": 1000
        },
        "id": "TWlLGzhyV3x0",
        "outputId": "5de031a3-7a8e-4700-c602-5cf680dc8773"
      },
      "execution_count": 21,
      "outputs": [
        {
          "output_type": "display_data",
          "data": {
            "text/plain": [
              "<IPython.core.display.Video object>"
            ],
            "text/html": [
              "<video controls  width=\"480\" >\n",
              " <source src=\"data:video/mp4;base64,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\" type=\"video/mp4\">\n",
              " Your browser does not support the video tag.\n",
              " </video>"
            ]
          },
          "metadata": {}
        },
        {
          "output_type": "display_data",
          "data": {
            "text/plain": [
              "<IPython.core.display.Video object>"
            ],
            "text/html": [
              "<video controls  width=\"480\" >\n",
              " <source src=\"data:video/mp4;base64,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\" type=\"video/mp4\">\n",
              " Your browser does not support the video tag.\n",
              " </video>"
            ]
          },
          "metadata": {}
        }
      ]
    }
  ]
}